{
 "cells": [
  {
   "cell_type": "code",
   "execution_count": 1,
   "metadata": {},
   "outputs": [],
   "source": [
    "import os\n",
    "os.chdir(\"../\")"
   ]
  },
  {
   "cell_type": "code",
   "execution_count": 92,
   "metadata": {},
   "outputs": [],
   "source": [
    "import pandas as pd\n",
    "import matplotlib.pyplot as plt\n",
    "import numpy as np\n",
    "from sklearn.utils import shuffle\n",
    "from sklearn.model_selection import train_test_split\n",
    "from sklearn.metrics.pairwise import cosine_similarity\n",
    "from sklearn.cluster import KMeans\n",
    "import time\n",
    "from sklearn.cluster import KMeans\n",
    "from yellowbrick.cluster import KElbowVisualizer\n",
    "from scripts.data_selection import separate_data\n",
    "from scripts.model import LeadGenerator\n",
    "from scripts.metrics import Metrics"
   ]
  },
  {
   "cell_type": "code",
   "execution_count": 3,
   "metadata": {},
   "outputs": [],
   "source": [
    "df = pd.read_csv(\"data/data_to_use.csv\")"
   ]
  },
  {
   "cell_type": "code",
   "execution_count": 4,
   "metadata": {},
   "outputs": [
    {
     "data": {
      "text/html": [
       "<div>\n",
       "<style scoped>\n",
       "    .dataframe tbody tr th:only-of-type {\n",
       "        vertical-align: middle;\n",
       "    }\n",
       "\n",
       "    .dataframe tbody tr th {\n",
       "        vertical-align: top;\n",
       "    }\n",
       "\n",
       "    .dataframe thead th {\n",
       "        text-align: right;\n",
       "    }\n",
       "</style>\n",
       "<table border=\"1\" class=\"dataframe\">\n",
       "  <thead>\n",
       "    <tr style=\"text-align: right;\">\n",
       "      <th></th>\n",
       "      <th>fl_matriz</th>\n",
       "      <th>de_natureza_juridica</th>\n",
       "      <th>sg_uf</th>\n",
       "      <th>natureza_juridica_macro</th>\n",
       "      <th>de_ramo</th>\n",
       "      <th>setor</th>\n",
       "      <th>idade_empresa_anos</th>\n",
       "      <th>idade_emp_cat</th>\n",
       "      <th>fl_me</th>\n",
       "      <th>fl_sa</th>\n",
       "      <th>...</th>\n",
       "      <th>idade_media_socios</th>\n",
       "      <th>idade_maxima_socios</th>\n",
       "      <th>idade_minima_socios</th>\n",
       "      <th>qt_socios_st_regular</th>\n",
       "      <th>de_faixa_faturamento_estimado</th>\n",
       "      <th>de_faixa_faturamento_estimado_grupo</th>\n",
       "      <th>vl_faturamento_estimado_aux</th>\n",
       "      <th>vl_faturamento_estimado_grupo_aux</th>\n",
       "      <th>qt_filiais</th>\n",
       "      <th>id</th>\n",
       "    </tr>\n",
       "  </thead>\n",
       "  <tbody>\n",
       "    <tr>\n",
       "      <th>0</th>\n",
       "      <td>0.258667</td>\n",
       "      <td>1.845406</td>\n",
       "      <td>0.925304</td>\n",
       "      <td>-1.629903</td>\n",
       "      <td>-0.155488</td>\n",
       "      <td>-0.293631</td>\n",
       "      <td>0.485060</td>\n",
       "      <td>-0.669280</td>\n",
       "      <td>-0.05142</td>\n",
       "      <td>-0.136104</td>\n",
       "      <td>...</td>\n",
       "      <td>0.671323</td>\n",
       "      <td>0.722216</td>\n",
       "      <td>0.599322</td>\n",
       "      <td>0.484076</td>\n",
       "      <td>-1.486100</td>\n",
       "      <td>-1.394300</td>\n",
       "      <td>0.078853</td>\n",
       "      <td>-0.045536</td>\n",
       "      <td>-0.061444</td>\n",
       "      <td>a6984c3ae395090e3bee8ad63c3758b110de096d5d8195...</td>\n",
       "    </tr>\n",
       "    <tr>\n",
       "      <th>1</th>\n",
       "      <td>0.258667</td>\n",
       "      <td>-0.440166</td>\n",
       "      <td>0.217005</td>\n",
       "      <td>0.639601</td>\n",
       "      <td>0.809181</td>\n",
       "      <td>1.111097</td>\n",
       "      <td>-0.882350</td>\n",
       "      <td>-1.214972</td>\n",
       "      <td>-0.05142</td>\n",
       "      <td>-0.136104</td>\n",
       "      <td>...</td>\n",
       "      <td>-0.081970</td>\n",
       "      <td>-0.121498</td>\n",
       "      <td>-0.039441</td>\n",
       "      <td>0.031070</td>\n",
       "      <td>0.631962</td>\n",
       "      <td>0.690613</td>\n",
       "      <td>-0.018143</td>\n",
       "      <td>-0.045959</td>\n",
       "      <td>-0.061444</td>\n",
       "      <td>6178f41ade1365e44bc2c46654c2c8c0eaae27dcb476c4...</td>\n",
       "    </tr>\n",
       "    <tr>\n",
       "      <th>2</th>\n",
       "      <td>0.258667</td>\n",
       "      <td>-0.440166</td>\n",
       "      <td>-1.199593</td>\n",
       "      <td>0.639601</td>\n",
       "      <td>1.988220</td>\n",
       "      <td>1.111097</td>\n",
       "      <td>-0.289892</td>\n",
       "      <td>0.422105</td>\n",
       "      <td>-0.05142</td>\n",
       "      <td>-0.136104</td>\n",
       "      <td>...</td>\n",
       "      <td>0.139587</td>\n",
       "      <td>0.089430</td>\n",
       "      <td>0.188689</td>\n",
       "      <td>-0.421936</td>\n",
       "      <td>-1.750858</td>\n",
       "      <td>-1.654914</td>\n",
       "      <td>-0.023454</td>\n",
       "      <td>-0.045982</td>\n",
       "      <td>-0.061444</td>\n",
       "      <td>4a7e5069a397f12fdd7fd57111d6dc5d3ba558958efc02...</td>\n",
       "    </tr>\n",
       "    <tr>\n",
       "      <th>3</th>\n",
       "      <td>0.258667</td>\n",
       "      <td>-0.440166</td>\n",
       "      <td>-1.199593</td>\n",
       "      <td>0.639601</td>\n",
       "      <td>1.237922</td>\n",
       "      <td>1.111097</td>\n",
       "      <td>-0.351012</td>\n",
       "      <td>0.422105</td>\n",
       "      <td>-0.05142</td>\n",
       "      <td>-0.136104</td>\n",
       "      <td>...</td>\n",
       "      <td>0.316832</td>\n",
       "      <td>0.258173</td>\n",
       "      <td>0.371192</td>\n",
       "      <td>0.031070</td>\n",
       "      <td>0.631962</td>\n",
       "      <td>0.690613</td>\n",
       "      <td>-0.018143</td>\n",
       "      <td>-0.045959</td>\n",
       "      <td>-0.061444</td>\n",
       "      <td>3348900fe63216a439d2e5238c79ddd46ede454df7b9d8...</td>\n",
       "    </tr>\n",
       "    <tr>\n",
       "      <th>4</th>\n",
       "      <td>0.258667</td>\n",
       "      <td>-0.440166</td>\n",
       "      <td>0.925304</td>\n",
       "      <td>0.639601</td>\n",
       "      <td>1.452293</td>\n",
       "      <td>1.111097</td>\n",
       "      <td>-0.699568</td>\n",
       "      <td>-1.214972</td>\n",
       "      <td>-0.05142</td>\n",
       "      <td>-0.136104</td>\n",
       "      <td>...</td>\n",
       "      <td>-1.278376</td>\n",
       "      <td>-1.260513</td>\n",
       "      <td>-1.271340</td>\n",
       "      <td>-0.421936</td>\n",
       "      <td>0.631962</td>\n",
       "      <td>0.690613</td>\n",
       "      <td>-0.018143</td>\n",
       "      <td>-0.045959</td>\n",
       "      <td>-0.061444</td>\n",
       "      <td>1f9bcabc9d3173c1fe769899e4fac14b053037b953a1e4...</td>\n",
       "    </tr>\n",
       "  </tbody>\n",
       "</table>\n",
       "<p>5 rows × 48 columns</p>\n",
       "</div>"
      ],
      "text/plain": [
       "   fl_matriz  de_natureza_juridica     sg_uf  natureza_juridica_macro  \\\n",
       "0   0.258667              1.845406  0.925304                -1.629903   \n",
       "1   0.258667             -0.440166  0.217005                 0.639601   \n",
       "2   0.258667             -0.440166 -1.199593                 0.639601   \n",
       "3   0.258667             -0.440166 -1.199593                 0.639601   \n",
       "4   0.258667             -0.440166  0.925304                 0.639601   \n",
       "\n",
       "    de_ramo     setor  idade_empresa_anos  idade_emp_cat    fl_me     fl_sa  \\\n",
       "0 -0.155488 -0.293631            0.485060      -0.669280 -0.05142 -0.136104   \n",
       "1  0.809181  1.111097           -0.882350      -1.214972 -0.05142 -0.136104   \n",
       "2  1.988220  1.111097           -0.289892       0.422105 -0.05142 -0.136104   \n",
       "3  1.237922  1.111097           -0.351012       0.422105 -0.05142 -0.136104   \n",
       "4  1.452293  1.111097           -0.699568      -1.214972 -0.05142 -0.136104   \n",
       "\n",
       "   ...  idade_media_socios  idade_maxima_socios  idade_minima_socios  \\\n",
       "0  ...            0.671323             0.722216             0.599322   \n",
       "1  ...           -0.081970            -0.121498            -0.039441   \n",
       "2  ...            0.139587             0.089430             0.188689   \n",
       "3  ...            0.316832             0.258173             0.371192   \n",
       "4  ...           -1.278376            -1.260513            -1.271340   \n",
       "\n",
       "   qt_socios_st_regular  de_faixa_faturamento_estimado  \\\n",
       "0              0.484076                      -1.486100   \n",
       "1              0.031070                       0.631962   \n",
       "2             -0.421936                      -1.750858   \n",
       "3              0.031070                       0.631962   \n",
       "4             -0.421936                       0.631962   \n",
       "\n",
       "   de_faixa_faturamento_estimado_grupo  vl_faturamento_estimado_aux  \\\n",
       "0                            -1.394300                     0.078853   \n",
       "1                             0.690613                    -0.018143   \n",
       "2                            -1.654914                    -0.023454   \n",
       "3                             0.690613                    -0.018143   \n",
       "4                             0.690613                    -0.018143   \n",
       "\n",
       "   vl_faturamento_estimado_grupo_aux  qt_filiais  \\\n",
       "0                          -0.045536   -0.061444   \n",
       "1                          -0.045959   -0.061444   \n",
       "2                          -0.045982   -0.061444   \n",
       "3                          -0.045959   -0.061444   \n",
       "4                          -0.045959   -0.061444   \n",
       "\n",
       "                                                  id  \n",
       "0  a6984c3ae395090e3bee8ad63c3758b110de096d5d8195...  \n",
       "1  6178f41ade1365e44bc2c46654c2c8c0eaae27dcb476c4...  \n",
       "2  4a7e5069a397f12fdd7fd57111d6dc5d3ba558958efc02...  \n",
       "3  3348900fe63216a439d2e5238c79ddd46ede454df7b9d8...  \n",
       "4  1f9bcabc9d3173c1fe769899e4fac14b053037b953a1e4...  \n",
       "\n",
       "[5 rows x 48 columns]"
      ]
     },
     "execution_count": 4,
     "metadata": {},
     "output_type": "execute_result"
    }
   ],
   "source": [
    "df.head()"
   ]
  },
  {
   "cell_type": "code",
   "execution_count": 5,
   "metadata": {},
   "outputs": [],
   "source": [
    "emp_1 = pd.read_csv(\"data/estaticos_portfolio1.csv\")\n",
    "emp_2 = pd.read_csv(\"data/estaticos_portfolio2.csv\")\n",
    "emp_3 = pd.read_csv(\"data/estaticos_portfolio3.csv\")"
   ]
  },
  {
   "cell_type": "markdown",
   "metadata": {},
   "source": [
    "# Criação do conjunto de treino"
   ]
  },
  {
   "cell_type": "markdown",
   "metadata": {},
   "source": [
    "## Seleção de *features*"
   ]
  },
  {
   "cell_type": "markdown",
   "metadata": {},
   "source": [
    "As seguintes variáveis foram selecionadas para criação do modelo:\n",
    "- natureza_juridica_macro:\n",
    "- sg_uf:\n",
    "- de_ramo:\n",
    "- setor:\n",
    "- idade_emp_cat:\n",
    "- nm_divisao:\n",
    "- nm_segmento:\n",
    "- sg_uf_matriz:\n",
    "- de_saude_tributaria:\n",
    "- de_nivel_atividade:\n",
    "- nm_meso_regiao:\n",
    "- qt_socios:\n",
    "- de_faixa_faturamento_estimado:\n",
    "- qt_filiais:"
   ]
  },
  {
   "cell_type": "code",
   "execution_count": 6,
   "metadata": {},
   "outputs": [],
   "source": [
    "features = [\"natureza_juridica_macro\",\n",
    "           \"sg_uf\",\n",
    "           \"de_ramo\",\n",
    "           \"setor\",\n",
    "           \"idade_emp_cat\",\n",
    "           \"nm_divisao\",\n",
    "           \"nm_segmento\",\n",
    "           \"sg_uf_matriz\",\n",
    "           \"de_saude_tributaria\",\n",
    "           \"de_nivel_atividade\",\n",
    "           \"nm_meso_regiao\",\n",
    "           \"qt_socios\",\n",
    "           \"de_faixa_faturamento_estimado\",\n",
    "           \"qt_filiais\",\n",
    "           \"id\"]"
   ]
  },
  {
   "cell_type": "code",
   "execution_count": 7,
   "metadata": {},
   "outputs": [],
   "source": [
    "df = df[features]"
   ]
  },
  {
   "cell_type": "markdown",
   "metadata": {},
   "source": [
    "## Criação do banco de dados com o conjunto de dados original com as *features* selecionadas"
   ]
  },
  {
   "cell_type": "code",
   "execution_count": 8,
   "metadata": {},
   "outputs": [],
   "source": [
    "df_or = pd.read_csv(\"data/estaticos_market.csv\")\n",
    "df_or = df_or[features]\n",
    "df_or.to_csv(\"data/original_data_formated.csv\", index = False)"
   ]
  },
  {
   "cell_type": "markdown",
   "metadata": {},
   "source": [
    "## Criação do conjunto de treino"
   ]
  },
  {
   "cell_type": "code",
   "execution_count": 82,
   "metadata": {},
   "outputs": [],
   "source": [
    "train_df, x_val, x_test, y_val, y_test = separate_data(df, emp_1, train = True)"
   ]
  },
  {
   "cell_type": "markdown",
   "metadata": {},
   "source": [
    "# Teste do modelo"
   ]
  },
  {
   "cell_type": "code",
   "execution_count": 83,
   "metadata": {
    "scrolled": false
   },
   "outputs": [
    {
     "name": "stdout",
     "output_type": "stream",
     "text": [
      "Fit time: 1.6529486179351807s.\n",
      "7 clusters are selected.\n"
     ]
    }
   ],
   "source": [
    "LG = LeadGenerator(train_df, x_val, x_test, y_val, y_test)\n",
    "LG.fit()"
   ]
  },
  {
   "cell_type": "code",
   "execution_count": 84,
   "metadata": {},
   "outputs": [
    {
     "name": "stdout",
     "output_type": "stream",
     "text": [
      "Validation\n",
      "Test\n"
     ]
    }
   ],
   "source": [
    "val, test = LG.predict()"
   ]
  },
  {
   "cell_type": "code",
   "execution_count": 85,
   "metadata": {},
   "outputs": [
    {
     "data": {
      "text/html": [
       "<div>\n",
       "<style scoped>\n",
       "    .dataframe tbody tr th:only-of-type {\n",
       "        vertical-align: middle;\n",
       "    }\n",
       "\n",
       "    .dataframe tbody tr th {\n",
       "        vertical-align: top;\n",
       "    }\n",
       "\n",
       "    .dataframe thead th {\n",
       "        text-align: right;\n",
       "    }\n",
       "</style>\n",
       "<table border=\"1\" class=\"dataframe\">\n",
       "  <thead>\n",
       "    <tr style=\"text-align: right;\">\n",
       "      <th></th>\n",
       "      <th>ID</th>\n",
       "      <th>Similarity</th>\n",
       "      <th>Client</th>\n",
       "    </tr>\n",
       "  </thead>\n",
       "  <tbody>\n",
       "    <tr>\n",
       "      <th>164859</th>\n",
       "      <td>b9ae0d174f9350b72b99f3e87e86c9c5824605606e3873...</td>\n",
       "      <td>0.906951</td>\n",
       "      <td>1</td>\n",
       "    </tr>\n",
       "    <tr>\n",
       "      <th>223488</th>\n",
       "      <td>defb5c4ee31b5249d174d150a0260784389c01912e26a7...</td>\n",
       "      <td>0.901205</td>\n",
       "      <td>1</td>\n",
       "    </tr>\n",
       "    <tr>\n",
       "      <th>27437</th>\n",
       "      <td>2fafa1f497c1b79eb94922287d8b1db9ce2d3a898f2f0b...</td>\n",
       "      <td>0.900478</td>\n",
       "      <td>1</td>\n",
       "    </tr>\n",
       "    <tr>\n",
       "      <th>186726</th>\n",
       "      <td>d02ca50913607dd2f6e3c514a42cb69179b3f0d9631f73...</td>\n",
       "      <td>0.886015</td>\n",
       "      <td>1</td>\n",
       "    </tr>\n",
       "    <tr>\n",
       "      <th>157203</th>\n",
       "      <td>69198b6059cf12adc877eef33551ad407df05121d0a072...</td>\n",
       "      <td>0.871417</td>\n",
       "      <td>1</td>\n",
       "    </tr>\n",
       "  </tbody>\n",
       "</table>\n",
       "</div>"
      ],
      "text/plain": [
       "                                                       ID  Similarity  Client\n",
       "164859  b9ae0d174f9350b72b99f3e87e86c9c5824605606e3873...    0.906951       1\n",
       "223488  defb5c4ee31b5249d174d150a0260784389c01912e26a7...    0.901205       1\n",
       "27437   2fafa1f497c1b79eb94922287d8b1db9ce2d3a898f2f0b...    0.900478       1\n",
       "186726  d02ca50913607dd2f6e3c514a42cb69179b3f0d9631f73...    0.886015       1\n",
       "157203  69198b6059cf12adc877eef33551ad407df05121d0a072...    0.871417       1"
      ]
     },
     "execution_count": 85,
     "metadata": {},
     "output_type": "execute_result"
    }
   ],
   "source": [
    "val[val[\"Client\"] == 1].sort_values(by = \"Similarity\", ascending = False).head()"
   ]
  },
  {
   "cell_type": "code",
   "execution_count": 86,
   "metadata": {},
   "outputs": [
    {
     "data": {
      "text/html": [
       "<div>\n",
       "<style scoped>\n",
       "    .dataframe tbody tr th:only-of-type {\n",
       "        vertical-align: middle;\n",
       "    }\n",
       "\n",
       "    .dataframe tbody tr th {\n",
       "        vertical-align: top;\n",
       "    }\n",
       "\n",
       "    .dataframe thead th {\n",
       "        text-align: right;\n",
       "    }\n",
       "</style>\n",
       "<table border=\"1\" class=\"dataframe\">\n",
       "  <thead>\n",
       "    <tr style=\"text-align: right;\">\n",
       "      <th></th>\n",
       "      <th>ID</th>\n",
       "      <th>Similarity</th>\n",
       "      <th>Client</th>\n",
       "    </tr>\n",
       "  </thead>\n",
       "  <tbody>\n",
       "    <tr>\n",
       "      <th>103454</th>\n",
       "      <td>1e268dd48c5677f0c49a885fdfd66a47bc737678964f5d...</td>\n",
       "      <td>0.910591</td>\n",
       "      <td>1</td>\n",
       "    </tr>\n",
       "    <tr>\n",
       "      <th>195448</th>\n",
       "      <td>94fed6590e85e554f490474fe2bcc1c1c2d76f97e12920...</td>\n",
       "      <td>0.897358</td>\n",
       "      <td>1</td>\n",
       "    </tr>\n",
       "    <tr>\n",
       "      <th>109214</th>\n",
       "      <td>d5749a6b6e948213a5504c3a58016623cc64f7a3f9898a...</td>\n",
       "      <td>0.883715</td>\n",
       "      <td>1</td>\n",
       "    </tr>\n",
       "    <tr>\n",
       "      <th>166103</th>\n",
       "      <td>ecffcad800ccfd24dc6f43ed2f19a6fce9af5d9ff9ccea...</td>\n",
       "      <td>0.874341</td>\n",
       "      <td>1</td>\n",
       "    </tr>\n",
       "    <tr>\n",
       "      <th>120553</th>\n",
       "      <td>af129f2c7cd695e50c0270f679fbd2938855c9d968201a...</td>\n",
       "      <td>0.870758</td>\n",
       "      <td>1</td>\n",
       "    </tr>\n",
       "  </tbody>\n",
       "</table>\n",
       "</div>"
      ],
      "text/plain": [
       "                                                       ID  Similarity  Client\n",
       "103454  1e268dd48c5677f0c49a885fdfd66a47bc737678964f5d...    0.910591       1\n",
       "195448  94fed6590e85e554f490474fe2bcc1c1c2d76f97e12920...    0.897358       1\n",
       "109214  d5749a6b6e948213a5504c3a58016623cc64f7a3f9898a...    0.883715       1\n",
       "166103  ecffcad800ccfd24dc6f43ed2f19a6fce9af5d9ff9ccea...    0.874341       1\n",
       "120553  af129f2c7cd695e50c0270f679fbd2938855c9d968201a...    0.870758       1"
      ]
     },
     "execution_count": 86,
     "metadata": {},
     "output_type": "execute_result"
    }
   ],
   "source": [
    "test[test[\"Client\"] == 1].sort_values(by = \"Similarity\", ascending = False).head()"
   ]
  },
  {
   "cell_type": "code",
   "execution_count": 93,
   "metadata": {},
   "outputs": [
    {
     "data": {
      "image/png": "[encoded data removed]",
      "text/plain": [
       "<Figure size 720x360 with 1 Axes>"
      ]
     },
     "metadata": {
      "needs_background": "light"
     },
     "output_type": "display_data"
    }
   ],
   "source": [
    "M = Metrics(val)\n",
    "M.show_model_performance(50)"
   ]
  },
  {
   "cell_type": "code",
   "execution_count": 94,
   "metadata": {},
   "outputs": [
    {
     "data": {
      "image/png": "[encoded data removed]",
      "text/plain": [
       "<Figure size 720x360 with 1 Axes>"
      ]
     },
     "metadata": {
      "needs_background": "light"
     },
     "output_type": "display_data"
    }
   ],
   "source": [
    "M = Metrics(test)\n",
    "M.show_model_performance(50)"
   ]
  },
  {
   "cell_type": "markdown",
   "metadata": {},
   "source": [
    "# Validação final"
   ]
  },
  {
   "cell_type": "code",
   "execution_count": 88,
   "metadata": {},
   "outputs": [],
   "source": [
    "train_df, client_df = separate_data(df, emp_1, train = False)"
   ]
  },
  {
   "cell_type": "code",
   "execution_count": 89,
   "metadata": {},
   "outputs": [
    {
     "name": "stdout",
     "output_type": "stream",
     "text": [
      "Fit time: 1.6354358196258545s.\n",
      "4 clusters are selected.\n"
     ]
    }
   ],
   "source": [
    "LG = LeadGenerator(train_df)\n",
    "LG.fit()"
   ]
  },
  {
   "cell_type": "code",
   "execution_count": 90,
   "metadata": {},
   "outputs": [],
   "source": [
    "predictions = LG.predict_leads(client_df)"
   ]
  },
  {
   "cell_type": "code",
   "execution_count": 91,
   "metadata": {},
   "outputs": [
    {
     "data": {
      "text/html": [
       "<div>\n",
       "<style scoped>\n",
       "    .dataframe tbody tr th:only-of-type {\n",
       "        vertical-align: middle;\n",
       "    }\n",
       "\n",
       "    .dataframe tbody tr th {\n",
       "        vertical-align: top;\n",
       "    }\n",
       "\n",
       "    .dataframe thead th {\n",
       "        text-align: right;\n",
       "    }\n",
       "</style>\n",
       "<table border=\"1\" class=\"dataframe\">\n",
       "  <thead>\n",
       "    <tr style=\"text-align: right;\">\n",
       "      <th></th>\n",
       "      <th>ID</th>\n",
       "      <th>Similarity</th>\n",
       "      <th>Cluster</th>\n",
       "    </tr>\n",
       "  </thead>\n",
       "  <tbody>\n",
       "    <tr>\n",
       "      <th>12892</th>\n",
       "      <td>1cc2065c59abef185b7d000b806a060688feee14d71ce0...</td>\n",
       "      <td>0.955382</td>\n",
       "      <td>3</td>\n",
       "    </tr>\n",
       "    <tr>\n",
       "      <th>408024</th>\n",
       "      <td>7f24938ea6c4511a3201e9564721079e2bad53e4c7bd88...</td>\n",
       "      <td>0.952897</td>\n",
       "      <td>0</td>\n",
       "    </tr>\n",
       "    <tr>\n",
       "      <th>361103</th>\n",
       "      <td>f4285a87172d225979cd9819effaea1e19a8f6874becd9...</td>\n",
       "      <td>0.952108</td>\n",
       "      <td>3</td>\n",
       "    </tr>\n",
       "    <tr>\n",
       "      <th>280438</th>\n",
       "      <td>68b57b3af8486cbbd47cf0091ea30eb2dc8163ac3cc6b0...</td>\n",
       "      <td>0.952108</td>\n",
       "      <td>3</td>\n",
       "    </tr>\n",
       "    <tr>\n",
       "      <th>369003</th>\n",
       "      <td>2954721d2dca7ebc9c82e14479a396894930d2435bcf53...</td>\n",
       "      <td>0.952108</td>\n",
       "      <td>3</td>\n",
       "    </tr>\n",
       "  </tbody>\n",
       "</table>\n",
       "</div>"
      ],
      "text/plain": [
       "                                                       ID  Similarity  Cluster\n",
       "12892   1cc2065c59abef185b7d000b806a060688feee14d71ce0...    0.955382        3\n",
       "408024  7f24938ea6c4511a3201e9564721079e2bad53e4c7bd88...    0.952897        0\n",
       "361103  f4285a87172d225979cd9819effaea1e19a8f6874becd9...    0.952108        3\n",
       "280438  68b57b3af8486cbbd47cf0091ea30eb2dc8163ac3cc6b0...    0.952108        3\n",
       "369003  2954721d2dca7ebc9c82e14479a396894930d2435bcf53...    0.952108        3"
      ]
     },
     "execution_count": 91,
     "metadata": {},
     "output_type": "execute_result"
    }
   ],
   "source": [
    "predictions.sort_values(by = \"Similarity\", ascending = False).head()"
   ]
  },
  {
   "cell_type": "markdown",
   "metadata": {},
   "source": [
    "# Salvando conjunto de dados"
   ]
  },
  {
   "cell_type": "code",
   "execution_count": 47,
   "metadata": {},
   "outputs": [],
   "source": [
    "df.to_csv(\"data/data_final.csv\", index = False)"
   ]
  }
 ],
 "metadata": {
  "kernelspec": {
   "display_name": "Python 3",
   "language": "python",
   "name": "python3"
  },
  "language_info": {
   "codemirror_mode": {
    "name": "ipython",
    "version": 3
   },
   "file_extension": ".py",
   "mimetype": "text/x-python",
   "name": "python",
   "nbconvert_exporter": "python",
   "pygments_lexer": "ipython3",
   "version": "3.6.9"
  }
 },
 "nbformat": 4,
 "nbformat_minor": 2
}
