{
 "cells": [
  {
   "cell_type": "code",
   "execution_count": 1,
   "metadata": {},
   "outputs": [],
   "source": [
    "import os\n",
    "os.chdir(\"../\")"
   ]
  },
  {
   "cell_type": "code",
   "execution_count": 2,
   "metadata": {},
   "outputs": [
    {
     "name": "stderr",
     "output_type": "stream",
     "text": [
      "/usr/local/lib/python3.6/dist-packages/sklearn/utils/deprecation.py:143: FutureWarning: The sklearn.metrics.classification module is  deprecated in version 0.22 and will be removed in version 0.24. The corresponding classes / functions should instead be imported from sklearn.metrics. Anything that cannot be imported from sklearn.metrics is now part of the private API.\n",
      "  warnings.warn(message, FutureWarning)\n"
     ]
    }
   ],
   "source": [
    "import pandas as pd\n",
    "import matplotlib.pyplot as plt\n",
    "import numpy as np\n",
    "from sklearn.utils import shuffle\n",
    "from sklearn.model_selection import train_test_split\n",
    "from sklearn.metrics.pairwise import cosine_similarity\n",
    "from sklearn.cluster import KMeans\n",
    "import time\n",
    "from sklearn.cluster import KMeans\n",
    "from yellowbrick.cluster import KElbowVisualizer\n",
    "from scripts.data_selection import separate_data\n",
    "from scripts.model import LeadGenerator"
   ]
  },
  {
   "cell_type": "code",
   "execution_count": 3,
   "metadata": {},
   "outputs": [],
   "source": [
    "df = pd.read_csv(\"data/data_to_use.csv\")"
   ]
  },
  {
   "cell_type": "code",
   "execution_count": 4,
   "metadata": {},
   "outputs": [
    {
     "data": {
      "text/html": [
       "<div>\n",
       "<style scoped>\n",
       "    .dataframe tbody tr th:only-of-type {\n",
       "        vertical-align: middle;\n",
       "    }\n",
       "\n",
       "    .dataframe tbody tr th {\n",
       "        vertical-align: top;\n",
       "    }\n",
       "\n",
       "    .dataframe thead th {\n",
       "        text-align: right;\n",
       "    }\n",
       "</style>\n",
       "<table border=\"1\" class=\"dataframe\">\n",
       "  <thead>\n",
       "    <tr style=\"text-align: right;\">\n",
       "      <th></th>\n",
       "      <th>fl_matriz</th>\n",
       "      <th>de_natureza_juridica</th>\n",
       "      <th>sg_uf</th>\n",
       "      <th>natureza_juridica_macro</th>\n",
       "      <th>de_ramo</th>\n",
       "      <th>setor</th>\n",
       "      <th>idade_empresa_anos</th>\n",
       "      <th>idade_emp_cat</th>\n",
       "      <th>fl_me</th>\n",
       "      <th>fl_sa</th>\n",
       "      <th>...</th>\n",
       "      <th>idade_media_socios</th>\n",
       "      <th>idade_maxima_socios</th>\n",
       "      <th>idade_minima_socios</th>\n",
       "      <th>qt_socios_st_regular</th>\n",
       "      <th>de_faixa_faturamento_estimado</th>\n",
       "      <th>de_faixa_faturamento_estimado_grupo</th>\n",
       "      <th>vl_faturamento_estimado_aux</th>\n",
       "      <th>vl_faturamento_estimado_grupo_aux</th>\n",
       "      <th>qt_filiais</th>\n",
       "      <th>id</th>\n",
       "    </tr>\n",
       "  </thead>\n",
       "  <tbody>\n",
       "    <tr>\n",
       "      <th>0</th>\n",
       "      <td>0.258667</td>\n",
       "      <td>1.845406</td>\n",
       "      <td>0.925304</td>\n",
       "      <td>-1.629903</td>\n",
       "      <td>-0.155488</td>\n",
       "      <td>-0.293631</td>\n",
       "      <td>0.485060</td>\n",
       "      <td>-0.669280</td>\n",
       "      <td>-0.05142</td>\n",
       "      <td>-0.136104</td>\n",
       "      <td>...</td>\n",
       "      <td>0.671323</td>\n",
       "      <td>0.722216</td>\n",
       "      <td>0.599322</td>\n",
       "      <td>0.484076</td>\n",
       "      <td>-1.486100</td>\n",
       "      <td>-1.394300</td>\n",
       "      <td>0.078853</td>\n",
       "      <td>-0.045536</td>\n",
       "      <td>-0.061444</td>\n",
       "      <td>a6984c3ae395090e3bee8ad63c3758b110de096d5d8195...</td>\n",
       "    </tr>\n",
       "    <tr>\n",
       "      <th>1</th>\n",
       "      <td>0.258667</td>\n",
       "      <td>-0.440166</td>\n",
       "      <td>0.217005</td>\n",
       "      <td>0.639601</td>\n",
       "      <td>0.809181</td>\n",
       "      <td>1.111097</td>\n",
       "      <td>-0.882350</td>\n",
       "      <td>-1.214972</td>\n",
       "      <td>-0.05142</td>\n",
       "      <td>-0.136104</td>\n",
       "      <td>...</td>\n",
       "      <td>-0.081970</td>\n",
       "      <td>-0.121498</td>\n",
       "      <td>-0.039441</td>\n",
       "      <td>0.031070</td>\n",
       "      <td>0.631962</td>\n",
       "      <td>0.690613</td>\n",
       "      <td>-0.018143</td>\n",
       "      <td>-0.045959</td>\n",
       "      <td>-0.061444</td>\n",
       "      <td>6178f41ade1365e44bc2c46654c2c8c0eaae27dcb476c4...</td>\n",
       "    </tr>\n",
       "    <tr>\n",
       "      <th>2</th>\n",
       "      <td>0.258667</td>\n",
       "      <td>-0.440166</td>\n",
       "      <td>-1.199593</td>\n",
       "      <td>0.639601</td>\n",
       "      <td>1.988220</td>\n",
       "      <td>1.111097</td>\n",
       "      <td>-0.289892</td>\n",
       "      <td>0.422105</td>\n",
       "      <td>-0.05142</td>\n",
       "      <td>-0.136104</td>\n",
       "      <td>...</td>\n",
       "      <td>0.139587</td>\n",
       "      <td>0.089430</td>\n",
       "      <td>0.188689</td>\n",
       "      <td>-0.421936</td>\n",
       "      <td>-1.750858</td>\n",
       "      <td>-1.654914</td>\n",
       "      <td>-0.023454</td>\n",
       "      <td>-0.045982</td>\n",
       "      <td>-0.061444</td>\n",
       "      <td>4a7e5069a397f12fdd7fd57111d6dc5d3ba558958efc02...</td>\n",
       "    </tr>\n",
       "    <tr>\n",
       "      <th>3</th>\n",
       "      <td>0.258667</td>\n",
       "      <td>-0.440166</td>\n",
       "      <td>-1.199593</td>\n",
       "      <td>0.639601</td>\n",
       "      <td>1.237922</td>\n",
       "      <td>1.111097</td>\n",
       "      <td>-0.351012</td>\n",
       "      <td>0.422105</td>\n",
       "      <td>-0.05142</td>\n",
       "      <td>-0.136104</td>\n",
       "      <td>...</td>\n",
       "      <td>0.316832</td>\n",
       "      <td>0.258173</td>\n",
       "      <td>0.371192</td>\n",
       "      <td>0.031070</td>\n",
       "      <td>0.631962</td>\n",
       "      <td>0.690613</td>\n",
       "      <td>-0.018143</td>\n",
       "      <td>-0.045959</td>\n",
       "      <td>-0.061444</td>\n",
       "      <td>3348900fe63216a439d2e5238c79ddd46ede454df7b9d8...</td>\n",
       "    </tr>\n",
       "    <tr>\n",
       "      <th>4</th>\n",
       "      <td>0.258667</td>\n",
       "      <td>-0.440166</td>\n",
       "      <td>0.925304</td>\n",
       "      <td>0.639601</td>\n",
       "      <td>1.452293</td>\n",
       "      <td>1.111097</td>\n",
       "      <td>-0.699568</td>\n",
       "      <td>-1.214972</td>\n",
       "      <td>-0.05142</td>\n",
       "      <td>-0.136104</td>\n",
       "      <td>...</td>\n",
       "      <td>-1.278376</td>\n",
       "      <td>-1.260513</td>\n",
       "      <td>-1.271340</td>\n",
       "      <td>-0.421936</td>\n",
       "      <td>0.631962</td>\n",
       "      <td>0.690613</td>\n",
       "      <td>-0.018143</td>\n",
       "      <td>-0.045959</td>\n",
       "      <td>-0.061444</td>\n",
       "      <td>1f9bcabc9d3173c1fe769899e4fac14b053037b953a1e4...</td>\n",
       "    </tr>\n",
       "  </tbody>\n",
       "</table>\n",
       "<p>5 rows × 48 columns</p>\n",
       "</div>"
      ],
      "text/plain": [
       "   fl_matriz  de_natureza_juridica     sg_uf  natureza_juridica_macro  \\\n",
       "0   0.258667              1.845406  0.925304                -1.629903   \n",
       "1   0.258667             -0.440166  0.217005                 0.639601   \n",
       "2   0.258667             -0.440166 -1.199593                 0.639601   \n",
       "3   0.258667             -0.440166 -1.199593                 0.639601   \n",
       "4   0.258667             -0.440166  0.925304                 0.639601   \n",
       "\n",
       "    de_ramo     setor  idade_empresa_anos  idade_emp_cat    fl_me     fl_sa  \\\n",
       "0 -0.155488 -0.293631            0.485060      -0.669280 -0.05142 -0.136104   \n",
       "1  0.809181  1.111097           -0.882350      -1.214972 -0.05142 -0.136104   \n",
       "2  1.988220  1.111097           -0.289892       0.422105 -0.05142 -0.136104   \n",
       "3  1.237922  1.111097           -0.351012       0.422105 -0.05142 -0.136104   \n",
       "4  1.452293  1.111097           -0.699568      -1.214972 -0.05142 -0.136104   \n",
       "\n",
       "   ...  idade_media_socios  idade_maxima_socios  idade_minima_socios  \\\n",
       "0  ...            0.671323             0.722216             0.599322   \n",
       "1  ...           -0.081970            -0.121498            -0.039441   \n",
       "2  ...            0.139587             0.089430             0.188689   \n",
       "3  ...            0.316832             0.258173             0.371192   \n",
       "4  ...           -1.278376            -1.260513            -1.271340   \n",
       "\n",
       "   qt_socios_st_regular  de_faixa_faturamento_estimado  \\\n",
       "0              0.484076                      -1.486100   \n",
       "1              0.031070                       0.631962   \n",
       "2             -0.421936                      -1.750858   \n",
       "3              0.031070                       0.631962   \n",
       "4             -0.421936                       0.631962   \n",
       "\n",
       "   de_faixa_faturamento_estimado_grupo  vl_faturamento_estimado_aux  \\\n",
       "0                            -1.394300                     0.078853   \n",
       "1                             0.690613                    -0.018143   \n",
       "2                            -1.654914                    -0.023454   \n",
       "3                             0.690613                    -0.018143   \n",
       "4                             0.690613                    -0.018143   \n",
       "\n",
       "   vl_faturamento_estimado_grupo_aux  qt_filiais  \\\n",
       "0                          -0.045536   -0.061444   \n",
       "1                          -0.045959   -0.061444   \n",
       "2                          -0.045982   -0.061444   \n",
       "3                          -0.045959   -0.061444   \n",
       "4                          -0.045959   -0.061444   \n",
       "\n",
       "                                                  id  \n",
       "0  a6984c3ae395090e3bee8ad63c3758b110de096d5d8195...  \n",
       "1  6178f41ade1365e44bc2c46654c2c8c0eaae27dcb476c4...  \n",
       "2  4a7e5069a397f12fdd7fd57111d6dc5d3ba558958efc02...  \n",
       "3  3348900fe63216a439d2e5238c79ddd46ede454df7b9d8...  \n",
       "4  1f9bcabc9d3173c1fe769899e4fac14b053037b953a1e4...  \n",
       "\n",
       "[5 rows x 48 columns]"
      ]
     },
     "execution_count": 4,
     "metadata": {},
     "output_type": "execute_result"
    }
   ],
   "source": [
    "df.head()"
   ]
  },
  {
   "cell_type": "code",
   "execution_count": 5,
   "metadata": {},
   "outputs": [],
   "source": [
    "emp_1 = pd.read_csv(\"data/estaticos_portfolio1.csv\")\n",
    "emp_2 = pd.read_csv(\"data/estaticos_portfolio2.csv\")\n",
    "emp_3 = pd.read_csv(\"data/estaticos_portfolio3.csv\")"
   ]
  },
  {
   "cell_type": "code",
   "execution_count": null,
   "metadata": {},
   "outputs": [],
   "source": [
    "# # : character, juridic nature of the company.\n",
    "#     character, initials of the name of the state of the company.\n",
    "#  a macro legal category for \"natureza jurídica\".\n",
    "# description of a macro activity category/branch based on the CNAE code\n",
    "# :character, economic sector of the company (Industry, Services, Agrobusiness, Et\n",
    "# character, age of the company by ranges    \n",
    "# : character, name description of the primary economic activity of the company\n",
    "# character, name description of the primary economic activity cluster of the company\n",
    "        \n",
    "#                                             :boolean, true if the company owns at least one vehicle\n",
    "#                                             boolean, true if the company is certified by ANTT for trasnportation purposes\n",
    "#                                             an, true if the company has it's own fuel station\n",
    "# # umeric, agregate value of all vehicles of the company\n",
    "                                            \n",
    "#                                             state of the main office location\n",
    "#                                             ter, indicator of health tax status, Green if all tax are OK, Red if none are OK\n",
    "#                                             :character, probability of being operating, ALTA high probality, BAIXA, low probality.\n",
    "#                                             nteger value, quantity of partners/shareholders of the cnpj\n",
    "#                                             character value, class of the estimated revenue of the company\n",
    "#                                             filiais"
   ]
  },
  {
   "cell_type": "markdown",
   "metadata": {},
   "source": [
    "# Criação do conjunto de treino"
   ]
  },
  {
   "cell_type": "markdown",
   "metadata": {},
   "source": [
    "## Seleção de *features*"
   ]
  },
  {
   "cell_type": "markdown",
   "metadata": {},
   "source": [
    "As seguintes variáveis foram selecionadas para criação do modelo:\n",
    "- natureza_juridica_macro:\n",
    "- sg_uf:\n",
    "- de_ramo:\n",
    "- setor:\n",
    "- idade_emp_cat:\n",
    "- nm_divisao:\n",
    "- nm_segmento:\n",
    "- sg_uf_matriz:\n",
    "- de_saude_tributaria:\n",
    "- de_nivel_atividade:\n",
    "- nm_meso_regiao:\n",
    "- qt_socios:\n",
    "- de_faixa_faturamento_estimado:\n",
    "- qt_filiais:"
   ]
  },
  {
   "cell_type": "code",
   "execution_count": 6,
   "metadata": {},
   "outputs": [],
   "source": [
    "features = [\"natureza_juridica_macro\",\n",
    "           \"sg_uf\",\n",
    "           \"de_ramo\",\n",
    "           \"setor\",\n",
    "           \"idade_emp_cat\",\n",
    "           \"nm_divisao\",\n",
    "           \"nm_segmento\",\n",
    "           \"sg_uf_matriz\",\n",
    "           \"de_saude_tributaria\",\n",
    "           \"de_nivel_atividade\",\n",
    "           \"nm_meso_regiao\",\n",
    "           \"qt_socios\",\n",
    "           \"de_faixa_faturamento_estimado\",\n",
    "           \"qt_filiais\",\n",
    "           \"id\"]"
   ]
  },
  {
   "cell_type": "code",
   "execution_count": 7,
   "metadata": {},
   "outputs": [],
   "source": [
    "df = df[features]"
   ]
  },
  {
   "cell_type": "markdown",
   "metadata": {},
   "source": [
    "## Criação do banco de dados com o conjunto de dados original com as *features* selecionadas"
   ]
  },
  {
   "cell_type": "code",
   "execution_count": 8,
   "metadata": {},
   "outputs": [],
   "source": [
    "df_or = pd.read_csv(\"data/estaticos_market.csv\")\n",
    "df_or = df_or[features]\n",
    "df_or.to_csv(\"data/original_data_formated.csv\", index = False)"
   ]
  },
  {
   "cell_type": "markdown",
   "metadata": {},
   "source": [
    "## Criação do conjunto de treino"
   ]
  },
  {
   "cell_type": "code",
   "execution_count": 9,
   "metadata": {},
   "outputs": [],
   "source": [
    "train_df, x_val, x_test, y_val, y_test = separate_data(df, emp_1, train = True)"
   ]
  },
  {
   "cell_type": "markdown",
   "metadata": {},
   "source": [
    "# Teste do modelo"
   ]
  },
  {
   "cell_type": "code",
   "execution_count": 10,
   "metadata": {
    "scrolled": false
   },
   "outputs": [
    {
     "name": "stdout",
     "output_type": "stream",
     "text": [
      "Fit time: 3.8496463298797607s.\n",
      "5 clusters are selected.\n"
     ]
    },
    {
     "data": {
      "image/png": "[encoded data removed]",
      "text/plain": [
       "<Figure size 432x288 with 2 Axes>"
      ]
     },
     "metadata": {
      "needs_background": "light"
     },
     "output_type": "display_data"
    }
   ],
   "source": [
    "LG = LeadGenerator(train_df, x_val, x_test, y_val, y_test)\n",
    "LG.fit()"
   ]
  },
  {
   "cell_type": "code",
   "execution_count": 27,
   "metadata": {},
   "outputs": [
    {
     "name": "stdout",
     "output_type": "stream",
     "text": [
      "Running validation\n",
      "Running test\n"
     ]
    }
   ],
   "source": [
    "val, test = LG.predict()"
   ]
  },
  {
   "cell_type": "code",
   "execution_count": 28,
   "metadata": {},
   "outputs": [
    {
     "data": {
      "text/html": [
       "<div>\n",
       "<style scoped>\n",
       "    .dataframe tbody tr th:only-of-type {\n",
       "        vertical-align: middle;\n",
       "    }\n",
       "\n",
       "    .dataframe tbody tr th {\n",
       "        vertical-align: top;\n",
       "    }\n",
       "\n",
       "    .dataframe thead th {\n",
       "        text-align: right;\n",
       "    }\n",
       "</style>\n",
       "<table border=\"1\" class=\"dataframe\">\n",
       "  <thead>\n",
       "    <tr style=\"text-align: right;\">\n",
       "      <th></th>\n",
       "      <th>ID</th>\n",
       "      <th>Similarity</th>\n",
       "      <th>Client</th>\n",
       "    </tr>\n",
       "  </thead>\n",
       "  <tbody>\n",
       "    <tr>\n",
       "      <th>102119</th>\n",
       "      <td>7ae9653a0092ed287d5699446e43ed1899dae68243d4b7...</td>\n",
       "      <td>0.867689</td>\n",
       "      <td>1</td>\n",
       "    </tr>\n",
       "    <tr>\n",
       "      <th>19987</th>\n",
       "      <td>fb203a61d486fbc90737eeea6a108416c5f62c4e6dc31c...</td>\n",
       "      <td>0.860311</td>\n",
       "      <td>1</td>\n",
       "    </tr>\n",
       "    <tr>\n",
       "      <th>79122</th>\n",
       "      <td>767d91a11f76dd524571b4061e96dae790f8dd4089d4d3...</td>\n",
       "      <td>0.846425</td>\n",
       "      <td>1</td>\n",
       "    </tr>\n",
       "    <tr>\n",
       "      <th>117814</th>\n",
       "      <td>7916d9657ba20f9da81d02b21c76cc1b9fc001050a5c52...</td>\n",
       "      <td>0.837733</td>\n",
       "      <td>1</td>\n",
       "    </tr>\n",
       "    <tr>\n",
       "      <th>210111</th>\n",
       "      <td>feec91169df886e0b49f9625deb4fbb8614e0002788d8f...</td>\n",
       "      <td>0.824819</td>\n",
       "      <td>1</td>\n",
       "    </tr>\n",
       "  </tbody>\n",
       "</table>\n",
       "</div>"
      ],
      "text/plain": [
       "                                                       ID  Similarity  Client\n",
       "102119  7ae9653a0092ed287d5699446e43ed1899dae68243d4b7...    0.867689       1\n",
       "19987   fb203a61d486fbc90737eeea6a108416c5f62c4e6dc31c...    0.860311       1\n",
       "79122   767d91a11f76dd524571b4061e96dae790f8dd4089d4d3...    0.846425       1\n",
       "117814  7916d9657ba20f9da81d02b21c76cc1b9fc001050a5c52...    0.837733       1\n",
       "210111  feec91169df886e0b49f9625deb4fbb8614e0002788d8f...    0.824819       1"
      ]
     },
     "execution_count": 28,
     "metadata": {},
     "output_type": "execute_result"
    }
   ],
   "source": [
    "val[val[\"Client\"] == 1].sort_values(by = \"Similarity\", ascending = False).head()"
   ]
  },
  {
   "cell_type": "code",
   "execution_count": 29,
   "metadata": {},
   "outputs": [
    {
     "data": {
      "text/html": [
       "<div>\n",
       "<style scoped>\n",
       "    .dataframe tbody tr th:only-of-type {\n",
       "        vertical-align: middle;\n",
       "    }\n",
       "\n",
       "    .dataframe tbody tr th {\n",
       "        vertical-align: top;\n",
       "    }\n",
       "\n",
       "    .dataframe thead th {\n",
       "        text-align: right;\n",
       "    }\n",
       "</style>\n",
       "<table border=\"1\" class=\"dataframe\">\n",
       "  <thead>\n",
       "    <tr style=\"text-align: right;\">\n",
       "      <th></th>\n",
       "      <th>ID</th>\n",
       "      <th>Similarity</th>\n",
       "      <th>Client</th>\n",
       "    </tr>\n",
       "  </thead>\n",
       "  <tbody>\n",
       "    <tr>\n",
       "      <th>108803</th>\n",
       "      <td>d83ba412a5c2b8a6576dd6a5ddf7803f6ccf213ea87170...</td>\n",
       "      <td>0.864696</td>\n",
       "      <td>1</td>\n",
       "    </tr>\n",
       "    <tr>\n",
       "      <th>62068</th>\n",
       "      <td>0b749faf34ea949dd29cd76ad5c771c2666765f4b64bad...</td>\n",
       "      <td>0.860311</td>\n",
       "      <td>1</td>\n",
       "    </tr>\n",
       "    <tr>\n",
       "      <th>131806</th>\n",
       "      <td>c2c05d613099fac774b9524cb22a79ad74f2543b79679f...</td>\n",
       "      <td>0.858456</td>\n",
       "      <td>1</td>\n",
       "    </tr>\n",
       "    <tr>\n",
       "      <th>207779</th>\n",
       "      <td>d5749a6b6e948213a5504c3a58016623cc64f7a3f9898a...</td>\n",
       "      <td>0.852513</td>\n",
       "      <td>1</td>\n",
       "    </tr>\n",
       "    <tr>\n",
       "      <th>226279</th>\n",
       "      <td>6acb7ad626bce2a3573df9be04af2b405c84dc630b9087...</td>\n",
       "      <td>0.837510</td>\n",
       "      <td>1</td>\n",
       "    </tr>\n",
       "  </tbody>\n",
       "</table>\n",
       "</div>"
      ],
      "text/plain": [
       "                                                       ID  Similarity  Client\n",
       "108803  d83ba412a5c2b8a6576dd6a5ddf7803f6ccf213ea87170...    0.864696       1\n",
       "62068   0b749faf34ea949dd29cd76ad5c771c2666765f4b64bad...    0.860311       1\n",
       "131806  c2c05d613099fac774b9524cb22a79ad74f2543b79679f...    0.858456       1\n",
       "207779  d5749a6b6e948213a5504c3a58016623cc64f7a3f9898a...    0.852513       1\n",
       "226279  6acb7ad626bce2a3573df9be04af2b405c84dc630b9087...    0.837510       1"
      ]
     },
     "execution_count": 29,
     "metadata": {},
     "output_type": "execute_result"
    }
   ],
   "source": [
    "test[test[\"Client\"] == 1].sort_values(by = \"Similarity\", ascending = False).head()"
   ]
  },
  {
   "cell_type": "markdown",
   "metadata": {},
   "source": [
    "# Validação final"
   ]
  },
  {
   "cell_type": "code",
   "execution_count": 30,
   "metadata": {},
   "outputs": [],
   "source": [
    "train_df, client_df = separate_data(df, emp_1, train = False)"
   ]
  },
  {
   "cell_type": "code",
   "execution_count": 31,
   "metadata": {},
   "outputs": [
    {
     "name": "stdout",
     "output_type": "stream",
     "text": [
      "Fit time: 24.989418029785156s.\n",
      "3 clusters are selected.\n"
     ]
    }
   ],
   "source": [
    "LG = LeadGenerator(train_df)\n",
    "LG.fit()"
   ]
  },
  {
   "cell_type": "code",
   "execution_count": 30,
   "metadata": {},
   "outputs": [
    {
     "data": {
      "application/vnd.jupyter.widget-view+json": {
       "model_id": "eaf10494ca7a4aa3b11ea134d71a88c9",
       "version_major": 2,
       "version_minor": 0
      },
      "text/plain": [
       "HBox(children=(IntProgress(value=0, max=459821), HTML(value='')))"
      ]
     },
     "metadata": {},
     "output_type": "display_data"
    },
    {
     "name": "stdout",
     "output_type": "stream",
     "text": [
      "\n"
     ]
    }
   ],
   "source": [
    "predictions = LG.predict_leads(client_df)"
   ]
  },
  {
   "cell_type": "code",
   "execution_count": 31,
   "metadata": {},
   "outputs": [
    {
     "data": {
      "text/html": [
       "<div>\n",
       "<style scoped>\n",
       "    .dataframe tbody tr th:only-of-type {\n",
       "        vertical-align: middle;\n",
       "    }\n",
       "\n",
       "    .dataframe tbody tr th {\n",
       "        vertical-align: top;\n",
       "    }\n",
       "\n",
       "    .dataframe thead th {\n",
       "        text-align: right;\n",
       "    }\n",
       "</style>\n",
       "<table border=\"1\" class=\"dataframe\">\n",
       "  <thead>\n",
       "    <tr style=\"text-align: right;\">\n",
       "      <th></th>\n",
       "      <th>ID</th>\n",
       "      <th>Similarity</th>\n",
       "    </tr>\n",
       "  </thead>\n",
       "  <tbody>\n",
       "    <tr>\n",
       "      <th>386947</th>\n",
       "      <td>0c9ea72f9a6a30704ebed8e68e10e9289a3d02bfcaae03...</td>\n",
       "      <td>0.999998</td>\n",
       "    </tr>\n",
       "    <tr>\n",
       "      <th>223383</th>\n",
       "      <td>a6fcae02f8653ead50117e29a414e2eb0871b624fd9752...</td>\n",
       "      <td>0.999701</td>\n",
       "    </tr>\n",
       "    <tr>\n",
       "      <th>420278</th>\n",
       "      <td>0b8f85a2e4dfd1a43443bb3d248215512766b2e561e905...</td>\n",
       "      <td>0.999701</td>\n",
       "    </tr>\n",
       "    <tr>\n",
       "      <th>309066</th>\n",
       "      <td>6c72185f89fd2b605b5e7b0378168dc4b4356d17b0bfda...</td>\n",
       "      <td>0.999701</td>\n",
       "    </tr>\n",
       "    <tr>\n",
       "      <th>31692</th>\n",
       "      <td>faa7713f2d4b07c43edecef4790690b0621fe4c1a60fe5...</td>\n",
       "      <td>0.999628</td>\n",
       "    </tr>\n",
       "  </tbody>\n",
       "</table>\n",
       "</div>"
      ],
      "text/plain": [
       "                                                       ID  Similarity\n",
       "386947  0c9ea72f9a6a30704ebed8e68e10e9289a3d02bfcaae03...    0.999998\n",
       "223383  a6fcae02f8653ead50117e29a414e2eb0871b624fd9752...    0.999701\n",
       "420278  0b8f85a2e4dfd1a43443bb3d248215512766b2e561e905...    0.999701\n",
       "309066  6c72185f89fd2b605b5e7b0378168dc4b4356d17b0bfda...    0.999701\n",
       "31692   faa7713f2d4b07c43edecef4790690b0621fe4c1a60fe5...    0.999628"
      ]
     },
     "execution_count": 31,
     "metadata": {},
     "output_type": "execute_result"
    }
   ],
   "source": [
    "predictions.sort_values(by = \"Similarity\", ascending = False).head()"
   ]
  },
  {
   "cell_type": "markdown",
   "metadata": {},
   "source": [
    "# Salvando conjunto de dados"
   ]
  },
  {
   "cell_type": "code",
   "execution_count": 47,
   "metadata": {},
   "outputs": [],
   "source": [
    "df.to_csv(\"data/data_final.csv\", index = False)"
   ]
  },
  {
   "cell_type": "code",
   "execution_count": 48,
   "metadata": {},
   "outputs": [
    {
     "data": {
      "text/plain": [
       "Index(['natureza_juridica_macro', 'sg_uf', 'de_ramo', 'setor', 'idade_emp_cat',\n",
       "       'nm_divisao', 'nm_segmento', 'sg_uf_matriz', 'de_saude_tributaria',\n",
       "       'de_nivel_atividade', 'nm_meso_regiao', 'qt_socios',\n",
       "       'de_faixa_faturamento_estimado', 'qt_filiais', 'id'],\n",
       "      dtype='object')"
      ]
     },
     "execution_count": 48,
     "metadata": {},
     "output_type": "execute_result"
    }
   ],
   "source": [
    "df.columns"
   ]
  }
 ],
 "metadata": {
  "kernelspec": {
   "display_name": "Python 3",
   "language": "python",
   "name": "python3"
  },
  "language_info": {
   "codemirror_mode": {
    "name": "ipython",
    "version": 3
   },
   "file_extension": ".py",
   "mimetype": "text/x-python",
   "name": "python",
   "nbconvert_exporter": "python",
   "pygments_lexer": "ipython3",
   "version": "3.6.9"
  }
 },
 "nbformat": 4,
 "nbformat_minor": 2
}
